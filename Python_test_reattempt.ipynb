{
  "nbformat": 4,
  "nbformat_minor": 0,
  "metadata": {
    "colab": {
      "provenance": [],
      "authorship_tag": "ABX9TyPxX6CcH+2PIGsJDduw77ux",
      "include_colab_link": true
    },
    "kernelspec": {
      "name": "python3",
      "display_name": "Python 3"
    },
    "language_info": {
      "name": "python"
    }
  },
  "cells": [
    {
      "cell_type": "markdown",
      "metadata": {
        "id": "view-in-github",
        "colab_type": "text"
      },
      "source": [
        "<a href=\"https://colab.research.google.com/github/Tushar724/MARCH-9-/blob/main/Python_test_reattempt.ipynb\" target=\"_parent\"><img src=\"https://colab.research.google.com/assets/colab-badge.svg\" alt=\"Open In Colab\"/></a>"
      ]
    },
    {
      "cell_type": "markdown",
      "source": [
        "**Q1**"
      ],
      "metadata": {
        "id": "GyzpBt294o-q"
      }
    },
    {
      "cell_type": "code",
      "source": [
        "class store:\n",
        "  def __init__(self):\n",
        "    print('''100/pizza\n",
        "    20/puffs\n",
        "    10/coldrink''')\n",
        "  def total_bill(self):\n",
        "    self.pizza = int(input(\"Enter the number of pizza: \"))\n",
        "    self.puffs = int(input(\"Enter the number of puffs: \"))\n",
        "    self.coldrinks = int(input(\"Enter the number of coldrinks: \"))\n",
        "    print(\"Total Bill: \",self.pizza*100+self.puffs*20+self.coldrinks*10)\n",
        "\n",
        "m = store()\n",
        "m.total_bill()"
      ],
      "metadata": {
        "colab": {
          "base_uri": "https://localhost:8080/"
        },
        "id": "En5OQJAT4u_5",
        "outputId": "f54239a3-90b0-4b80-a597-8c8f50822d88"
      },
      "execution_count": 1,
      "outputs": [
        {
          "output_type": "stream",
          "name": "stdout",
          "text": [
            "100/pizza\n",
            "    20/puffs\n",
            "    10/coldrink\n",
            "Enter the number of pizza: 10\n",
            "Enter the number of puffs: 12\n",
            "Enter the number of coldrinks: 5\n",
            "Total Bill:  1290\n"
          ]
        }
      ]
    },
    {
      "cell_type": "markdown",
      "source": [
        "**Q2**"
      ],
      "metadata": {
        "id": "gvdApGjT6II8"
      }
    },
    {
      "cell_type": "code",
      "source": [
        "enter = int(input(\"Enter the number of steps: \"))\n",
        "step = int(input(\"Enter the number of stairs: \"))\n",
        "print(\"Total steps taken: \")\n",
        "x= round(enter/step)\n",
        "print(x)"
      ],
      "metadata": {
        "colab": {
          "base_uri": "https://localhost:8080/"
        },
        "id": "fQX6bsBp6Jze",
        "outputId": "f8d9fb3d-3b41-4954-a556-21bad19d9d84"
      },
      "execution_count": 15,
      "outputs": [
        {
          "output_type": "stream",
          "name": "stdout",
          "text": [
            "Enter the number of steps: 13\n",
            "Enter the number of stairs: 2\n",
            "Total steps taken: \n",
            "6\n"
          ]
        }
      ]
    },
    {
      "cell_type": "markdown",
      "source": [
        "**Q9**"
      ],
      "metadata": {
        "id": "5zXsIpxv7Wiq"
      }
    },
    {
      "cell_type": "code",
      "source": [
        "str1 = input(\"\")\n",
        "str2 = input(\"\")\n",
        "\n",
        "if sorted(str1)==sorted(str2):\n",
        "  print(\"Yes\")\n",
        "else:\n",
        "  print(\"No\")"
      ],
      "metadata": {
        "colab": {
          "base_uri": "https://localhost:8080/"
        },
        "id": "Bzw9Rj2n7Xf4",
        "outputId": "451345db-29a0-4a5e-bc0c-4b24381aa22e"
      },
      "execution_count": 16,
      "outputs": [
        {
          "output_type": "stream",
          "name": "stdout",
          "text": [
            "hello\n",
            "lloeh\n",
            "Yes\n"
          ]
        }
      ]
    },
    {
      "cell_type": "markdown",
      "source": [
        "**Q8**"
      ],
      "metadata": {
        "id": "zpFv-vtS76Na"
      }
    },
    {
      "cell_type": "code",
      "source": [
        "arr = [23,22,24,8,9,10]\n",
        "l2 = []\n",
        "l2.append(arr[len(arr)-1])\n",
        "for i in range(len(arr)-1):\n",
        "  for j in range(i+1,len(arr)):\n",
        "    if arr[i]>arr[j]:\n",
        "      res = arr[i]\n",
        "\n",
        "l2.append(res)\n",
        "print(l2)"
      ],
      "metadata": {
        "colab": {
          "base_uri": "https://localhost:8080/"
        },
        "id": "DKonR5JR79WK",
        "outputId": "f377f27a-1a8f-4c12-dc47-c651cd4ecd1d"
      },
      "execution_count": 17,
      "outputs": [
        {
          "output_type": "stream",
          "name": "stdout",
          "text": [
            "[10, 24]\n"
          ]
        }
      ]
    },
    {
      "cell_type": "markdown",
      "source": [
        "**Q6**"
      ],
      "metadata": {
        "id": "45W7y06QAd0G"
      }
    },
    {
      "cell_type": "code",
      "source": [
        "arr = []\n",
        "n = int(input())\n",
        "for i in range(n):\n",
        "  arr.append(int(input(f'''Enter the {i} index''')))\n",
        "\n",
        "l1 = [ i for i in arr if i%2==0]\n",
        "l2 = [i for i in arr if i%2!=0]\n",
        "print(l1,l2)\n",
        "\n",
        "\n"
      ],
      "metadata": {
        "colab": {
          "base_uri": "https://localhost:8080/"
        },
        "id": "fa0sjiu0Au46",
        "outputId": "3b672a77-21c3-49a4-d887-cbfa471b1c80"
      },
      "execution_count": 22,
      "outputs": [
        {
          "output_type": "stream",
          "name": "stdout",
          "text": [
            "5\n",
            "Enter the 0 index3\n",
            "Enter the 1 index4\n",
            "Enter the 2 index1\n",
            "Enter the 3 index7\n",
            "Enter the 4 index9\n",
            "[4] [3, 1, 7, 9]\n"
          ]
        }
      ]
    },
    {
      "cell_type": "markdown",
      "source": [
        "**Q10**\n"
      ],
      "metadata": {
        "id": "97Y0ntIcCi0d"
      }
    },
    {
      "cell_type": "code",
      "source": [
        "inp = input()\n",
        "a = inp.lower()\n",
        "\n",
        "\n",
        "l1 = [i for i in a if i.isalnum()]\n",
        "l2 = l1[::-1]\n",
        "if l1==l2:\n",
        "  print(\"Yes\")\n",
        "else:\n",
        "  print(\"No\")"
      ],
      "metadata": {
        "colab": {
          "base_uri": "https://localhost:8080/"
        },
        "id": "CqbV9TELLaaV",
        "outputId": "e4a302a3-369e-4fe0-ca9e-d2b5a8850e65"
      },
      "execution_count": 45,
      "outputs": [
        {
          "output_type": "stream",
          "name": "stdout",
          "text": [
            "1 helleh 1 ?\n",
            "Yes\n"
          ]
        }
      ]
    },
    {
      "cell_type": "markdown",
      "source": [
        "**Q3.**"
      ],
      "metadata": {
        "id": "lgpxfPepuxP4"
      }
    },
    {
      "cell_type": "code",
      "source": [
        "days = 5\n",
        "price = [-39957,-17136,35466,21820,-26711]\n",
        "init_price = 0\n",
        "profit = 0\n",
        "for i in price:\n",
        "  init_price = init_price+i\n",
        "  profit = min(profit,init_price)\n",
        "\n",
        "print(profit)\n",
        "\n"
      ],
      "metadata": {
        "colab": {
          "base_uri": "https://localhost:8080/"
        },
        "id": "IpUkRjEXvQvy",
        "outputId": "a949b1d8-4db6-43f9-c13e-7a95f5a9ace4"
      },
      "execution_count": 46,
      "outputs": [
        {
          "output_type": "stream",
          "name": "stdout",
          "text": [
            "-57093\n"
          ]
        }
      ]
    },
    {
      "cell_type": "markdown",
      "source": [
        "**Q4**"
      ],
      "metadata": {
        "id": "JKUm98No3qjy"
      }
    },
    {
      "cell_type": "code",
      "source": [
        "n = int(input())\n",
        "m_k = int(input())\n",
        "m_p = int(input())\n",
        "t_k = int(input())\n",
        "t_p = int(input())\n",
        "\n",
        "count = 0\n",
        "while t_k>=0 and t_p>=0:\n",
        "  if t_k>=m_k:\n",
        "    t_k = t_k-m_k\n",
        "    count+=1\n",
        "  elif t_k<=m_k:\n",
        "    t_p = t_p-m_p\n",
        "    count+=1\n",
        "  elif t_k<=0 and t_p<=0:\n",
        "    break\n",
        "\n",
        "print(n-(count-1))\n"
      ],
      "metadata": {
        "colab": {
          "base_uri": "https://localhost:8080/"
        },
        "id": "a5Kl6sat3rsw",
        "outputId": "7562a9fe-79a8-4937-8f9d-bbada01252ce"
      },
      "execution_count": 54,
      "outputs": [
        {
          "output_type": "stream",
          "name": "stdout",
          "text": [
            "20\n",
            "2\n",
            "3\n",
            "12\n",
            "12\n",
            "9\n"
          ]
        }
      ]
    },
    {
      "cell_type": "markdown",
      "source": [
        "**Q5**"
      ],
      "metadata": {
        "id": "WM9PoHeMMwel"
      }
    },
    {
      "cell_type": "code",
      "source": [
        "n = int(input())\n",
        "arr = []\n",
        "for i in range(n):\n",
        "  arr.append(int(input()))\n",
        "\n",
        "sum=0\n",
        "for i in arr[::3]:\n",
        "  sum = sum+i\n",
        "avg = sum/3\n",
        "if avg>70:\n",
        "  print(\"Trainee 1\")\n",
        "else:\n",
        "  print(\"Trainee 1 is Unfit\")\n",
        "\n",
        "\n",
        "sum1=0\n",
        "for i in  arr[2::3]:\n",
        "  sum1 = sum1+i\n",
        "avg1 = sum1/3\n",
        "if avg1>70:\n",
        "  print(\"Trainee 2\")\n",
        "else:\n",
        "  print(\"Trainee 2 is Unfit\")\n",
        "\n",
        "\n",
        "sum2=0\n",
        "for i in  arr[3::3]:\n",
        "  sum2 = sum2+i\n",
        "avg2 = sum2/3\n",
        "if avg2>70:\n",
        "  print(\"Trainee 3\")\n",
        "else:\n",
        "  print(\"Trainee 3 is Unfit\")\n",
        "\n",
        "\n",
        "\n"
      ],
      "metadata": {
        "colab": {
          "base_uri": "https://localhost:8080/"
        },
        "id": "Art5kwHzM0QF",
        "outputId": "f8c5364f-2a4d-4fe3-f719-9f50a015cfff"
      },
      "execution_count": 2,
      "outputs": [
        {
          "output_type": "stream",
          "name": "stdout",
          "text": [
            "9\n",
            "95\n",
            "92\n",
            "95\n",
            "92\n",
            "90\n",
            "92\n",
            "90\n",
            "92\n",
            "90\n",
            "Trainee 1\n",
            "Trainee 2\n",
            "Trainee is Unfit\n"
          ]
        }
      ]
    },
    {
      "cell_type": "markdown",
      "source": [
        "**Q7**"
      ],
      "metadata": {
        "id": "2FR8dLEAM0sv"
      }
    },
    {
      "cell_type": "code",
      "source": [],
      "metadata": {
        "id": "Em9lC-XwM18M"
      },
      "execution_count": null,
      "outputs": []
    }
  ]
}