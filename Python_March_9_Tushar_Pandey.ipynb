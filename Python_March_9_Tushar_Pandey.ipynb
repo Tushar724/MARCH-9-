{
  "nbformat": 4,
  "nbformat_minor": 0,
  "metadata": {
    "colab": {
      "provenance": []
    },
    "kernelspec": {
      "name": "python3",
      "display_name": "Python 3"
    },
    "language_info": {
      "name": "python"
    }
  },
  "cells": [
    {
      "cell_type": "markdown",
      "source": [
        "**Q1**"
      ],
      "metadata": {
        "id": "Jod3nIYSwxSh"
      }
    },
    {
      "cell_type": "code",
      "execution_count": 2,
      "metadata": {
        "colab": {
          "base_uri": "https://localhost:8080/"
        },
        "id": "FgS8fQ8Ku1WK",
        "outputId": "fa235e39-3ae7-4b33-a0c4-8d5cd5de44bd"
      },
      "outputs": [
        {
          "output_type": "stream",
          "name": "stdout",
          "text": [
            "Enter the number of pizzas bought: 10\n",
            "Enter the number of puffs bought: 12\n",
            "Enter the number of cold drinks bought: 5\n",
            "Bill Detials\n",
            "No of pizza:  10\n",
            "No of puffs:  12\n",
            "No of cold drinks:  5\n",
            "Total price:  1290\n"
          ]
        }
      ],
      "source": [
        "pz = int(input(\"Enter the number of pizzas bought: \"))\n",
        "pf = int(input(\"Enter the number of puffs bought: \"))\n",
        "cd = int(input(\"Enter the number of cold drinks bought: \"))\n",
        "\n",
        "print(\"Bill Detials\")\n",
        "print(\"No of pizza: \",pz)\n",
        "print(\"No of puffs: \",pf)\n",
        "print(\"No of cold drinks: \",cd)\n",
        "print(\"Total price: \",pz*100+pf*20+cd*10)\n",
        "\n",
        "\n"
      ]
    },
    {
      "cell_type": "markdown",
      "source": [
        "**Q2**"
      ],
      "metadata": {
        "id": "dHKrcdziw0ay"
      }
    },
    {
      "cell_type": "code",
      "source": [
        "stairs = int(input(\"Enter the number of stairs: \"))\n",
        "steps = int(input(\"Enter the total no of steps: \"))\n",
        "print(\"Total no of steps taken: \",round(stairs/steps))"
      ],
      "metadata": {
        "colab": {
          "base_uri": "https://localhost:8080/"
        },
        "id": "GbQhbUYOw3F-",
        "outputId": "9466522d-3c13-4125-8299-1aef55841737"
      },
      "execution_count": 7,
      "outputs": [
        {
          "output_type": "stream",
          "name": "stdout",
          "text": [
            "Enter the number of stairs: 13\n",
            "Enter the total no of steps: 2\n",
            "Total no of steps taken:  6\n"
          ]
        }
      ]
    },
    {
      "cell_type": "markdown",
      "source": [
        "**Q9**"
      ],
      "metadata": {
        "id": "z3YqUNbGxyU6"
      }
    },
    {
      "cell_type": "code",
      "source": [
        "str1 = input()\n",
        "str2 = input()\n",
        "\n",
        "if sorted(str1)==sorted(str2):\n",
        "  print(\"yes\")\n",
        "else:\n",
        "  print(\"No\")\n"
      ],
      "metadata": {
        "colab": {
          "base_uri": "https://localhost:8080/"
        },
        "id": "Z_T3dx2Bxzdq",
        "outputId": "13f063b8-1b65-4642-f3e5-072a4be47677"
      },
      "execution_count": 13,
      "outputs": [
        {
          "output_type": "stream",
          "name": "stdout",
          "text": [
            "coding\n",
            "ingodc\n",
            "yes\n"
          ]
        }
      ]
    },
    {
      "cell_type": "markdown",
      "source": [
        "**Q10**"
      ],
      "metadata": {
        "id": "W0F6ryhFzSdB"
      }
    },
    {
      "cell_type": "code",
      "source": [
        "s = input()\n",
        "s = s.strip()\n",
        "print(s)\n",
        "s1 = s[::-1]\n",
        "\n",
        "if s==s1:\n",
        "  print(\"YES\")\n",
        "else:\n",
        "  print(\"Iron man died\")"
      ],
      "metadata": {
        "colab": {
          "base_uri": "https://localhost:8080/"
        },
        "id": "2meaq8xxzaqx",
        "outputId": "e16d18e2-8c5e-493a-be33-9a547b487419"
      },
      "execution_count": 16,
      "outputs": [
        {
          "output_type": "stream",
          "name": "stdout",
          "text": [
            "I am :TronnorI Ma, i\n",
            "I am :TronnorI Ma, i\n",
            "Iron man died\n"
          ]
        }
      ]
    },
    {
      "cell_type": "markdown",
      "source": [
        "**Q8**"
      ],
      "metadata": {
        "id": "MEZ9k-H00Zw2"
      }
    },
    {
      "cell_type": "code",
      "source": [
        "arr = [23,22,24,9,10]\n",
        "print(arr)\n",
        "s = 0\n",
        "for i in range(len(arr)-1):\n",
        "  for j in range(i+1,len(arr)):\n",
        "    if arr[i]>arr[j]:\n",
        "      s = arr[i]\n",
        "\n",
        "print(s)"
      ],
      "metadata": {
        "colab": {
          "base_uri": "https://localhost:8080/"
        },
        "id": "sMSW4BXQ0hG7",
        "outputId": "882ba563-5d26-4a29-b66c-a079c2767bdf"
      },
      "execution_count": 21,
      "outputs": [
        {
          "output_type": "stream",
          "name": "stdout",
          "text": [
            "[23, 22, 24, 9, 10]\n",
            "24\n"
          ]
        }
      ]
    },
    {
      "cell_type": "markdown",
      "source": [
        "**Q6**"
      ],
      "metadata": {
        "id": "N3a5lFF61QVO"
      }
    },
    {
      "cell_type": "code",
      "source": [
        "n = int(input())\n",
        "arr = []\n",
        "for i in range(n):\n",
        "  arr.append(int(input(f\"Enter the element of {i}index: \")))\n",
        "\n",
        "l1 = [i  for i in arr if i%2==0]\n",
        "l2 = l1.sort()\n",
        "print(l2)\n",
        "\n",
        "l2 = [i for i in arr  if i%2!=0]\n",
        "l3 = l2.sort()\n",
        "print(l3)"
      ],
      "metadata": {
        "colab": {
          "base_uri": "https://localhost:8080/"
        },
        "id": "P34r2Wll2bSS",
        "outputId": "2f1897e1-3138-4321-e521-0ae7e91135ec"
      },
      "execution_count": 31,
      "outputs": [
        {
          "output_type": "stream",
          "name": "stdout",
          "text": [
            "3\n",
            "Enter the element of 0index: 4\n",
            "Enter the element of 1index: 3\n",
            "Enter the element of 2index: 1\n",
            "None\n",
            "None\n"
          ]
        }
      ]
    },
    {
      "cell_type": "markdown",
      "source": [
        "**Q3**"
      ],
      "metadata": {
        "id": "G28_XM5Z67rl"
      }
    },
    {
      "cell_type": "code",
      "source": [
        "days = 5\n",
        "price =  [-39957 , -17136,35466,21820, 26711]\n",
        "buy = price[0]\n",
        "profit = 0\n",
        "def stock(price,days):\n",
        "  for i in range(1, n):\n",
        "      if buy > price[i]:\n",
        "        buy = price[i]\n",
        "      elif price[i] - buy > profit:\n",
        "        profit = price[i] - buy\n",
        "return profit"
      ],
      "metadata": {
        "colab": {
          "base_uri": "https://localhost:8080/",
          "height": 106
        },
        "id": "svWRbslx5Pby",
        "outputId": "194b05ac-9811-4358-e2b1-54c981e13ea5"
      },
      "execution_count": 43,
      "outputs": [
        {
          "output_type": "error",
          "ename": "SyntaxError",
          "evalue": "'return' outside function (<ipython-input-43-51d09eb94c4a>, line 11)",
          "traceback": [
            "\u001b[0;36m  File \u001b[0;32m\"<ipython-input-43-51d09eb94c4a>\"\u001b[0;36m, line \u001b[0;32m11\u001b[0m\n\u001b[0;31m    return profit\u001b[0m\n\u001b[0m    ^\u001b[0m\n\u001b[0;31mSyntaxError\u001b[0m\u001b[0;31m:\u001b[0m 'return' outside function\n"
          ]
        }
      ]
    }
  ]
}